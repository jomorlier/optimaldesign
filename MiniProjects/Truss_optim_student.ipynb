{
  "cells": [
    {
      "cell_type": "code",
      "execution_count": 14,
      "metadata": {
        "id": "fLBUzMQZdOOC"
      },
      "outputs": [],
      "source": [
        "import numpy as np\n",
        "from numpy.linalg import solve\n",
        "\n",
        "def bar(E,A,L,phi):\n",
        "\n",
        "    '''\n",
        "    Compute the stiffness and stress matrix for one element\n",
        "\n",
        "    Parameters\n",
        "    ----------\n",
        "    E : float\n",
        "        modulus of elasticity\n",
        "    A : float\n",
        "        cross-sectional area\n",
        "    L : float\n",
        "        length of element\n",
        "    phi : float\n",
        "        orientation of element\n",
        "\n",
        "    Outputs\n",
        "    -------\n",
        "    K : 4 x 4 ndarray\n",
        "        stiffness matrix\n",
        "    S : 1 x 4 ndarray\n",
        "        stress matrix\n",
        "\n",
        "    '''\n",
        "    # rename\n",
        "    c = np.cos(phi)\n",
        "    s = np.sin(phi)\n",
        "\n",
        "    # stiffness matrix\n",
        "    k0 = np.array([[c**2,c*s],[c*s,s**2]])\n",
        "    k0_ = np.hstack([k0,-k0])\n",
        "\n",
        "    K = E*A/L*np.vstack([k0_,-k0_])\n",
        "\n",
        "    # stress matrix\n",
        "    S = E/L*np.array([-c,-s,c,s])\n",
        "\n",
        "    return K,S\n",
        "\n",
        "def node2idx(node,DOF):\n",
        "\n",
        "    '''\n",
        "    Computes the appropriate indices in the global matrix for\n",
        "    the corresponding node numbers.  You pass in the number of the node\n",
        "    (either as a scalar or an array of locations), and the degrees of\n",
        "    freedom per node and it returns the corresponding indices in\n",
        "    the global matrices\n",
        "    '''\n",
        "\n",
        "    idx = np.array([])\n",
        "\n",
        "    for i in range(len(node)):\n",
        "\n",
        "        start = DOF*(node[i]-1) + 1\n",
        "        finish = DOF*node[i]\n",
        "        stof = np.arange(start,finish+1)\n",
        "\n",
        "        idx = np.append(idx,stof)\n",
        "\n",
        "    # reduce indices by 1 to match pythons order\n",
        "    idx = idx - 1\n",
        "\n",
        "    # convert to int\n",
        "    idx = idx.astype(int)\n",
        "\n",
        "    return idx\n",
        "\n",
        "def truss(A):\n",
        "\n",
        "    '''\n",
        "    Compute mass and stress for the 10-bar truss structure\n",
        "\n",
        "    Parameters\n",
        "    ----------\n",
        "    A : array of length 10 (row or column)\n",
        "    cross-sectional areas of each bar.\n",
        "    See image in book for number order if needed.\n",
        "\n",
        "    Outputs\n",
        "    -------\n",
        "    mass : float\n",
        "        mass of the entire structure\n",
        "    stress : array of length 10\n",
        "        corresponding stress of each bar\n",
        "\n",
        "    '''\n",
        "\n",
        "    P = 10e3# applied loads in N\n",
        "    Ls = 9144 # length of sides in mm\n",
        "    Ld = np.sqrt(2*Ls**2) # length of diagonals\n",
        "\n",
        "    start = np.array([5, 3, 6, 4, 4, 2, 5, 6, 3, 4])\n",
        "    finish = np.array([3, 1, 4, 2, 3, 1, 4, 3, 2, 1])\n",
        "    phi = np.array([0, 0, 0, 0, 90, 90, -45, 45, -45, 45])*np.pi/180\n",
        "    L = np.array([Ls, Ls, Ls, Ls, Ls, Ls, Ld, Ld, Ld, Ld])\n",
        "\n",
        "    nbar = len(A)\n",
        "    E = 69e3*np.ones((nbar,))#68947*np.ones((nbar,)) # modulus of elasticity MPa\n",
        "    rho = 2.7e-6*np.ones((nbar,)) # material density Kg/mm^3\n",
        "\n",
        "    Fx = np.array([0.0, 0.0, 0.0, 0.0, 0.0, 0.0])\n",
        "    Fy = np.array([0.0, -P, 0.0, -P, 0.0, 0.0])\n",
        "    rigidx = np.array([0, 0, 0, 0, 1, 1])\n",
        "    rigidy = np.array([0, 0, 0, 0, 1, 1])\n",
        "\n",
        "    n = len(Fx) # number of nodes\n",
        "    DOF = 2 # number of degrees of freedom\n",
        "    nbar = len(A) # number of bars\n",
        "\n",
        "    # compute mass\n",
        "    mass = np.sum(rho*A*L)\n",
        "\n",
        "    # assemble global matrices\n",
        "    K = np.zeros((DOF*n,DOF*n))\n",
        "    S = np.zeros((nbar,DOF*n))\n",
        "\n",
        "    for i in range(nbar):\n",
        "\n",
        "        # compute submatrices for the element\n",
        "        Ksub,Ssub = bar(E[i],A[i],L[i],phi[i])\n",
        "\n",
        "        # inset submatrix into global matrix\n",
        "        idx = node2idx([start[i],finish[i]],DOF)\n",
        "        n_idx = len(idx)\n",
        "\n",
        "        Kind = []\n",
        "        for ind in range(n_idx):\n",
        "            Kind.append(idx)\n",
        "\n",
        "        idx_ = np.vstack(Kind)\n",
        "        K[idx_,idx_.T] = K[idx_,idx_.T] + Ksub\n",
        "        S[i,idx] = Ssub\n",
        "\n",
        "    # setup applied loads\n",
        "    F = np.zeros((n*DOF,))\n",
        "\n",
        "    for i in range(n):\n",
        "        idx = node2idx([i+1],DOF)\n",
        "        F[idx[0]] = Fx[i]\n",
        "        F[idx[1]] = Fy[i]\n",
        "    node_ = np.arange(1,7)\n",
        "    idxx = (rigidx != 0);idxx = node_[idxx]\n",
        "    idxy = (rigidy != 0);idxy = node_[idxy]\n",
        "    removex = node2idx(idxx,DOF)\n",
        "    removey = node2idx(idxy,DOF)\n",
        "\n",
        "    nx = len(removex)\n",
        "    ind_nx = np.arange(0,nx,2)\n",
        "    removex = removex[ind_nx]\n",
        "\n",
        "    ny = len(removey)\n",
        "    ind_ny = np.arange(1,ny,2)\n",
        "    removey = removey[ind_ny]\n",
        "\n",
        "    remove = np.hstack([removex,removey])\n",
        "\n",
        "    K = np.delete(K,remove,axis = 0)\n",
        "    K = np.delete(K,remove,axis = 1)\n",
        "    F = np.delete(F,remove)\n",
        "    S = np.delete(S,remove,axis = 1)\n",
        "\n",
        "    # solve for deflections\n",
        "    d = solve(K,F)\n",
        "\n",
        "    # compute stress\n",
        "    stress = S.dot(d)\n",
        "\n",
        "    return mass,stress\n",
        "\n",
        "\n"
      ]
    },
    {
      "cell_type": "code",
      "execution_count": null,
      "metadata": {
        "colab": {
          "base_uri": "https://localhost:8080/",
          "height": 652
        },
        "id": "dOUYZOyodTeb",
        "outputId": "73755b64-28cf-4cb0-f5c7-9dd193b035aa"
      },
      "outputs": [
        {
          "name": "stdout",
          "output_type": "stream",
          "text": [
            "`gtol` termination condition is satisfied.\n",
            "Number of iterations: 118, function evaluations: 1243, CG iterations: 182, optimality: 2.17e-09, constraint violation: 0.00e+00, execution time:  0.6 s.\n",
            "mass (Kg)= 26.429670534765016\n",
            "\n",
            "X = [193.55327874   1.00009081 194.79642157  96.46588536   1.00019112\n",
            "   1.00027244 138.18131666 136.42341473 136.42350244   1.00035734]\n",
            "stress = [ 1.02999989e+02  6.40083745e+01 -1.02999912e+02 -1.02999996e+02\n",
            " -1.34835766e-04  6.39967517e+01  1.02999927e+02 -1.02999956e+02\n",
            "  1.02999891e+02 -9.04973934e+01]\n"
          ]
        },
        {
          "data": {
            "image/png": "[encoded data removed]",
            "text/plain": [
              "<Figure size 640x480 with 1 Axes>"
            ]
          },
          "metadata": {},
          "output_type": "display_data"
        }
      ],
      "source": [
        "import numpy as np\n",
        "#from truss import truss\n",
        "from scipy.optimize import (BFGS, SR1, Bounds, NonlinearConstraint, minimize)\n",
        "import matplotlib.pyplot as plt\n",
        "import networkx as nx\n",
        "\n"
      ]
    },
    {
      "cell_type": "markdown",
      "metadata": {
        "id": "bKLUlE2vAr7q"
      },
      "source": [
        "# Solving a Three Variable Multivariable Constrained Optimization\n",
        "\n",
        "Find the dimensions of the box with largest volume if the total surface area is $64 cm^2$\n",
        "\n",
        "$Volume = f(x_0,x_1,x_2) = x_0 x_1x_2$\n",
        "\n",
        "$Surface Area = g(x_0,x_1,x_2) = 2x_0x_1 + 2x_1x_1 + 2x_0x_2 = 64$"
      ]
    },
    {
      "cell_type": "code",
      "execution_count": 57,
      "metadata": {
        "colab": {
          "base_uri": "https://localhost:8080/"
        },
        "id": "qXSA-mroAkSL",
        "outputId": "22ba44a5-82df-4cd8-e840-7358f18b4ee4"
      },
      "outputs": [
        {
          "name": "stdout",
          "output_type": "stream",
          "text": [
            "Optimal dimensions (x, y, z): [3.26598632 3.26598632 3.26598632]\n",
            "Volume: 34.8372 cm³\n",
            "Surface area: 64.0000 cm² (constraint: 64 cm²)\n",
            "Number of outer iterations: 4\n",
            "Optimal Lagrange multiplier: 0.8165\n",
            "\n",
            "Theoretical cube solution (for verification):\n",
            "Side length: 3.2660 cm\n",
            "Volume: 34.8372 cm³\n"
          ]
        }
      ],
      "source": [
        "import numpy as np\n",
        "from scipy.optimize import minimize\n",
        "\n",
        "def objective(x):\n",
        "    \"\"\"Volume of the box (to be maximized)\"\"\"\n",
        "    return -x[0] * x[1] * x[2]  # Negative for maximization\n",
        "\n",
        "def constraint(x):\n",
        "    \"\"\"Surface area constraint: 2(xy + xz + yz) = 64\"\"\"\n",
        "    return 2*(x[0]*x[1] + x[0]*x[2] + x[1]*x[2]) - 64\n",
        "\n",
        "def grad_objective(x):\n",
        "    \"\"\"Gradient of the volume function\"\"\"\n",
        "    return -np.array([x[1]*x[2], x[0]*x[2], x[0]*x[1]])\n",
        "\n",
        "def grad_constraint(x):\n",
        "    \"\"\"Gradient of the surface area constraint\"\"\"\n",
        "    return 2*np.array([x[1] + x[2], x[0] + x[2], x[0] + x[1]])\n",
        "\n",
        "def augmented_lagrangian(x, λ, μ):\n",
        "    \"\"\"Augmented Lagrangian function\"\"\"\n",
        "    return objective(x) + λ*constraint(x) + (μ/2)*constraint(x)**2\n",
        "\n",
        "def grad_augmented_lagrangian(x, λ, μ):\n",
        "    \"\"\"Gradient of the augmented Lagrangian\"\"\"\n",
        "    return grad_objective(x) + λ*grad_constraint(x) + μ*constraint(x)*grad_constraint(x)\n",
        "\n",
        "def solve_with_augmented_lagrangian():\n",
        "    # Initial guesses\n",
        "    x0 = np.array([2.0, 2.0, 2.0])  # Initial dimensions\n",
        "    λ = 0.0  # Initial Lagrange multiplier\n",
        "    μ = 1.0  # Initial penalty parameter\n",
        "    μ_max = 1e6  # Maximum penalty parameter\n",
        "    tol = 1e-6  # Tolerance\n",
        "    max_iter = 100  # Maximum outer iterations\n",
        "\n",
        "    for k in range(max_iter):\n",
        "        # Solve the unconstrained subproblem\n",
        "        res = minimize(lambda x: augmented_lagrangian(x, λ, μ),\n",
        "                       x0,\n",
        "                       jac=lambda x: grad_augmented_lagrangian(x, λ, μ),\n",
        "                       method='BFGS')\n",
        "\n",
        "        x_opt = res.x\n",
        "        constraint_val = constraint(x_opt)\n",
        "\n",
        "        # Update Lagrange multiplier\n",
        "        λ += μ * constraint_val\n",
        "\n",
        "        # Check convergence\n",
        "        if abs(constraint_val) < tol:\n",
        "            break\n",
        "\n",
        "        # Increase penalty parameter if needed\n",
        "        if abs(constraint_val) > 0.25 * abs(constraint(x0)):\n",
        "            μ = min(2*μ, μ_max)\n",
        "\n",
        "        x0 = x_opt\n",
        "\n",
        "    return x_opt, λ, k+1\n",
        "\n",
        "# Solve the problem\n",
        "optimal_dims, lambda_opt, iterations = solve_with_augmented_lagrangian()\n",
        "volume = -objective(optimal_dims)\n",
        "surface_area = constraint(optimal_dims) + 64\n",
        "\n",
        "print(f\"Optimal dimensions (x, y, z): {optimal_dims}\")\n",
        "print(f\"Volume: {volume:.4f} cm³\")\n",
        "print(f\"Surface area: {surface_area:.4f} cm² (constraint: 64 cm²)\")\n",
        "print(f\"Number of outer iterations: {iterations}\")\n",
        "print(f\"Optimal Lagrange multiplier: {lambda_opt:.4f}\")\n",
        "\n",
        "# For a cube (which we know is optimal for this problem)\n",
        "cube_side = np.sqrt(64/6)\n",
        "print(f\"\\nTheoretical cube solution (for verification):\")\n",
        "print(f\"Side length: {cube_side:.4f} cm\")\n",
        "print(f\"Volume: {cube_side**3:.4f} cm³\")"
      ]
    },
    {
      "cell_type": "markdown",
      "metadata": {
        "id": "6Y2FzkWHAuVA"
      },
      "source": [
        "with JAX"
      ]
    },
    {
      "cell_type": "code",
      "execution_count": 59,
      "metadata": {
        "id": "85A9lGaGA7Es"
      },
      "outputs": [],
      "source": [
        "import jax.numpy as np\n",
        "from jax import grad, jit, vmap\n",
        "from jax import random\n",
        "from jax import jacfwd, jacrev\n",
        "from jax.numpy import linalg\n",
        "\n",
        "from numpy import nanargmin,nanargmax\n",
        "\n",
        "key = random.PRNGKey(42)"
      ]
    },
    {
      "cell_type": "code",
      "execution_count": 60,
      "metadata": {
        "id": "swl9CKe4A076"
      },
      "outputs": [],
      "source": [
        "def f(x): return x[0]*x[1]*x[2]\n",
        "def g(x): return 2*x[0]*x[1] + 2*x[1]*x[2] + 2*x[0]*x[2] - 64\n",
        "\n",
        "minfunc = vmap(f)\n",
        "\n",
        "def Lagrange(l): return f(l[0:3]) - l[3]*g(l[0:3])\n",
        "\n",
        "L = jacfwd(Lagrange)\n",
        "gradL = jacfwd(L)"
      ]
    },
    {
      "cell_type": "code",
      "execution_count": 61,
      "metadata": {
        "id": "xY5zcepjBCzN"
      },
      "outputs": [],
      "source": [
        "def solveLagrangian(l): return l - 0.1*linalg.inv(gradL(l)) @ L(l)\n",
        "\n",
        "domain = random.uniform(key, shape=(50,4), dtype='float32',\n",
        "                        minval=0, maxval=10)\n",
        "\n",
        "vfuncsLAG = vmap(solveLagrangian)\n",
        "for epoch in range(200):\n",
        "  domain = vfuncsLAG(domain)\n",
        "\n",
        "\n",
        "maximums = minfunc(domain)"
      ]
    },
    {
      "cell_type": "code",
      "execution_count": 62,
      "metadata": {
        "colab": {
          "base_uri": "https://localhost:8080/"
        },
        "id": "FcGqltqOBGsX",
        "outputId": "b61a46b3-65cd-4f82-fed6-6c1405c33bee"
      },
      "outputs": [
        {
          "name": "stdout",
          "output_type": "stream",
          "text": [
            "The minimum is 34.83722686767578, the argmin is (3.2659881114959717,3.2659873962402344,3.2659873962402344), the lagrangian is 0.8164968490600586\n"
          ]
        }
      ],
      "source": [
        "arglist = nanargmax(maximums)\n",
        "argmin = domain[arglist]\n",
        "minimum = maximums[arglist]\n",
        "\n",
        "print(\"The minimum is {}, the argmin is ({},{},{}), the lagrangian is {}\".format(minimum,argmin[0],\n",
        "                                                                                         argmin[1],\n",
        "                                                                                         argmin[2],\n",
        "                                                                                         argmin[3]))"
      ]
    }
  ],
  "metadata": {
    "colab": {
      "provenance": []
    },
    "kernelspec": {
      "display_name": "base",
      "language": "python",
      "name": "python3"
    },
    "language_info": {
      "codemirror_mode": {
        "name": "ipython",
        "version": 3
      },
      "file_extension": ".py",
      "mimetype": "text/x-python",
      "name": "python",
      "nbconvert_exporter": "python",
      "pygments_lexer": "ipython3",
      "version": "3.11.7"
    }
  },
  "nbformat": 4,
  "nbformat_minor": 0
}
